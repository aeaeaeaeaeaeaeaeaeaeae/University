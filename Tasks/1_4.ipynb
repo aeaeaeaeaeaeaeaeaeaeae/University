{
  "nbformat": 4,
  "nbformat_minor": 0,
  "metadata": {
    "colab": {
      "provenance": [],
      "authorship_tag": "ABX9TyO52wcKFoxXwq7i19tEfQWh",
      "include_colab_link": true
    },
    "kernelspec": {
      "name": "python3",
      "display_name": "Python 3"
    },
    "language_info": {
      "name": "python"
    }
  },
  "cells": [
    {
      "cell_type": "markdown",
      "metadata": {
        "id": "view-in-github",
        "colab_type": "text"
      },
      "source": [
        "<a href=\"https://colab.research.google.com/github/aeaeaeaeaeaeaeaeaeaeae/University/blob/main/Tasks/1_4.ipynb\" target=\"_parent\"><img src=\"https://colab.research.google.com/assets/colab-badge.svg\" alt=\"Open In Colab\"/></a>"
      ]
    },
    {
      "cell_type": "code",
      "execution_count": 1,
      "metadata": {
        "colab": {
          "base_uri": "https://localhost:8080/"
        },
        "id": "WOB0ZeKn8OP2",
        "outputId": "6209ac38-50c5-4577-a107-2955366311a9"
      },
      "outputs": [
        {
          "output_type": "stream",
          "name": "stdout",
          "text": [
            "1\n",
            "2\n",
            "3\n",
            "6\n"
          ]
        }
      ],
      "source": [
        "a = int(input())\n",
        "print('Следующее число для числа ', a, ':', a + 1)\n",
        "print('Предыдущее число для числа ', a, ':', a - 1)"
      ]
    }
  ]
}