{
  "nbformat": 4,
  "nbformat_minor": 0,
  "metadata": {
    "colab": {
      "provenance": [],
      "authorship_tag": "ABX9TyPslkySX5Nbridy3hYrp+Lo",
      "include_colab_link": true
    },
    "kernelspec": {
      "name": "python3",
      "display_name": "Python 3"
    },
    "language_info": {
      "name": "python"
    }
  },
  "cells": [
    {
      "cell_type": "markdown",
      "metadata": {
        "id": "view-in-github",
        "colab_type": "text"
      },
      "source": [
        "<a href=\"https://colab.research.google.com/github/aeaeaeaeaeaeaeaeaeaeae/University/blob/main/Extra_Tasks/ExtraTask1.ipynb\" target=\"_parent\"><img src=\"https://colab.research.google.com/assets/colab-badge.svg\" alt=\"Open In Colab\"/></a>"
      ]
    },
    {
      "cell_type": "code",
      "execution_count": null,
      "metadata": {
        "id": "bMimuTwNTyYV"
      },
      "outputs": [],
      "source": [
        "from random import randrange\n",
        "\n",
        "r = randrange(1, 100)\n",
        "print(\"Компьютер загадал число\", r)\n",
        "a = input()\n",
        "c = 0\n",
        "f = True\n",
        "while f:\n",
        "    if a.isdigit():\n",
        "        a = int(a)\n",
        "        c+= 1\n",
        "        if a > r:\n",
        "            print(\"Ваше число больше\")\n",
        "        elif a < r:\n",
        "            print(\"Ваше число меньше\")\n",
        "        else:\n",
        "            print(\"Вы угадали число за \" + str(c) + \" попыток\")\n",
        "            break\n",
        "    else:\n",
        "        if a.lower() == \"выход\":\n",
        "            break\n",
        "        else:\n",
        "            print(\"Введите число\")\n",
        "    a = input()"
      ]
    }
  ]
}