{
  "nbformat": 4,
  "nbformat_minor": 0,
  "metadata": {
    "colab": {
      "provenance": [],
      "authorship_tag": "ABX9TyPMizUWy1YMeELXnYpKRTtG",
      "include_colab_link": true
    },
    "kernelspec": {
      "name": "python3",
      "display_name": "Python 3"
    },
    "language_info": {
      "name": "python"
    }
  },
  "cells": [
    {
      "cell_type": "markdown",
      "metadata": {
        "id": "view-in-github",
        "colab_type": "text"
      },
      "source": [
        "<a href=\"https://colab.research.google.com/github/aeaeaeaeaeaeaeaeaeaeae/University/blob/main/Extra_Tasks/ExtraTask2.ipynb\" target=\"_parent\"><img src=\"https://colab.research.google.com/assets/colab-badge.svg\" alt=\"Open In Colab\"/></a>"
      ]
    },
    {
      "cell_type": "code",
      "execution_count": null,
      "metadata": {
        "id": "bMimuTwNTyYV"
      },
      "outputs": [],
      "source": [
        "numberBook = {}\n",
        "\n",
        "def helpNumber(phoneNumber:str) -> str:\n",
        "    s = [\"+\", \"7\", \"9\", \"0\", \"0\", \"0\", \"0\", \"0\", \"0\", \"0\", \"0\", \"0\"]\n",
        "    c = 0\n",
        "    for i in range(3, len(s)):\n",
        "        if c == 9:\n",
        "            return ''.join(s)\n",
        "        s[i] = phoneNumber[c]\n",
        "        c+=1\n",
        "    print(s)\n",
        "    return ''.join(s)\n",
        "\n",
        "def helpName(name:str) -> str:\n",
        "    return name.title()\n",
        "\n",
        "#Удалить контакт\n",
        "def deleteContact(name:str):\n",
        "    name = helpName(name)\n",
        "    if numberBook.get(name) != None:\n",
        "        numberBook.pop(name)\n",
        "    else:\n",
        "        print(\"Контакта не существует\")\n",
        "\n",
        "#Посмотреть телефонную книгу\n",
        "def getAllContacts():\n",
        "    print(\"Список контактов\")\n",
        "    for i in numberBook.keys():\n",
        "        print(i + \" \" + numberBook[i])\n",
        "\n",
        "#Изменить номее\n",
        "def changeNumber(name:str, phoneNumber:str):\n",
        "    name = helpName(name)\n",
        "    phoneNumber = helpNumber(phoneNumber)\n",
        "    numberBook[name] = phoneNumber\n",
        "\n",
        "#Добавить контакт\n",
        "def addContact(name:str, phoneNumber:str):\n",
        "    name = helpName(name)\n",
        "    phoneNumber = helpNumber(phoneNumber)\n",
        "    numberBook[name] = phoneNumber\n",
        "\n",
        "while True:\n",
        "    print(\"Выберите функцию\")\n",
        "    print(\"1. Добавить контакт\")\n",
        "    print(\"2. Удалить контакт\")\n",
        "    print(\"3. Посмотреть телефонную книгу\")\n",
        "    print(\"4. Изменить номер\")\n",
        "    print(\"5. Выход\")\n",
        "    a = int(input())\n",
        "    if a == 1:\n",
        "        print(\"Введите название для контакта \")\n",
        "        name = input()\n",
        "        print(\"Введите номер телефона \")\n",
        "        phoneNumber = input()\n",
        "        addContact(name, phoneNumber)\n",
        "        print(\"Контакт успешно добавлен\")\n",
        "    elif a == 2:\n",
        "        print(\"Введите название для контакта \")\n",
        "        name = input()\n",
        "        deleteContact(name)\n",
        "        print(\"Контакт успешно удален\")\n",
        "    elif a == 3:\n",
        "        getAllContacts()\n",
        "    elif a == 4:\n",
        "        print(\"Введите название для контакта \")\n",
        "        name = input()\n",
        "        print(\"Введите номер телефона \")\n",
        "        phoneNumber = input()\n",
        "        changeNumber(name, phoneNumber)\n",
        "        print(\"Контакт успешно изменен\")\n",
        "    elif a == 5:\n",
        "        break\n",
        "\n",
        "\n",
        "\n",
        "\n"
      ]
    }
  ]
}